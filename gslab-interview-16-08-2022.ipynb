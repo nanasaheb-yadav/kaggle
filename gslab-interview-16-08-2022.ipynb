{
 "cells": [
  {
   "cell_type": "markdown",
   "id": "4e7dae41",
   "metadata": {
    "papermill": {
     "duration": 0.00395,
     "end_time": "2022-08-17T18:47:09.693581",
     "exception": false,
     "start_time": "2022-08-17T18:47:09.689631",
     "status": "completed"
    },
    "tags": []
   },
   "source": [
    "#### Question:\n",
    "    Find minimum number in given list \n",
    "    list1 = [4,3,7,8,3,2,9]"
   ]
  },
  {
   "cell_type": "code",
   "execution_count": 1,
   "id": "de891a06",
   "metadata": {
    "execution": {
     "iopub.execute_input": "2022-08-17T18:47:09.700953Z",
     "iopub.status.busy": "2022-08-17T18:47:09.700482Z",
     "iopub.status.idle": "2022-08-17T18:47:09.713862Z",
     "shell.execute_reply": "2022-08-17T18:47:09.712867Z"
    },
    "papermill": {
     "duration": 0.019931,
     "end_time": "2022-08-17T18:47:09.716264",
     "exception": false,
     "start_time": "2022-08-17T18:47:09.696333",
     "status": "completed"
    },
    "tags": []
   },
   "outputs": [
    {
     "name": "stdout",
     "output_type": "stream",
     "text": [
      "2\n"
     ]
    }
   ],
   "source": [
    "list1 = [4,3,7,8,3,2,9]\n",
    "length = len(list1)\n",
    "minval = list1[0]\n",
    "for i in range(length-1):\n",
    "    if minval > list1[i+1]:\n",
    "        minval = list1[i+1]\n",
    "print(minval)"
   ]
  },
  {
   "cell_type": "markdown",
   "id": "169e1bd3",
   "metadata": {
    "papermill": {
     "duration": 0.002056,
     "end_time": "2022-08-17T18:47:09.720793",
     "exception": false,
     "start_time": "2022-08-17T18:47:09.718737",
     "status": "completed"
    },
    "tags": []
   },
   "source": [
    "#### Question:\n",
    "        Match prefix for each string elements in list, if its not matching with any element then it should return None value.\n",
    " \n",
    "input = [\"Apple\", 'Application', 'Apply', 'Apply']\n",
    "<br>\n",
    "input2 = [\"Apple\", 'Application', 'Apply', 'NonVal']"
   ]
  },
  {
   "cell_type": "code",
   "execution_count": 2,
   "id": "9357c983",
   "metadata": {
    "execution": {
     "iopub.execute_input": "2022-08-17T18:47:09.727584Z",
     "iopub.status.busy": "2022-08-17T18:47:09.727116Z",
     "iopub.status.idle": "2022-08-17T18:47:09.733945Z",
     "shell.execute_reply": "2022-08-17T18:47:09.733054Z"
    },
    "papermill": {
     "duration": 0.013673,
     "end_time": "2022-08-17T18:47:09.736773",
     "exception": false,
     "start_time": "2022-08-17T18:47:09.723100",
     "status": "completed"
    },
    "tags": []
   },
   "outputs": [
    {
     "name": "stdout",
     "output_type": "stream",
     "text": [
      "Appl\n"
     ]
    }
   ],
   "source": [
    "input1 = [\"Apple\", 'Application', 'Apply', 'Apply']\n",
    "input2 = [\"Apple\", 'Application', 'Apply', 'NonVal']\n",
    "\n",
    "out = zip(*input1)\n",
    "val = ''\n",
    "for i in out:\n",
    "    #print(i)\n",
    "    if len(set(i))==1:\n",
    "        val = f\"{val}{i[0]}\"\n",
    "    else:\n",
    "        break\n",
    "print(val)"
   ]
  },
  {
   "cell_type": "markdown",
   "id": "012d4d2c",
   "metadata": {
    "papermill": {
     "duration": 0.002195,
     "end_time": "2022-08-17T18:47:09.741516",
     "exception": false,
     "start_time": "2022-08-17T18:47:09.739321",
     "status": "completed"
    },
    "tags": []
   },
   "source": [
    "#### Question:\n",
    "        Find string is anagram or not."
   ]
  },
  {
   "cell_type": "code",
   "execution_count": 3,
   "id": "e155c707",
   "metadata": {
    "execution": {
     "iopub.execute_input": "2022-08-17T18:47:09.748344Z",
     "iopub.status.busy": "2022-08-17T18:47:09.747815Z",
     "iopub.status.idle": "2022-08-17T18:47:09.755212Z",
     "shell.execute_reply": "2022-08-17T18:47:09.754305Z"
    },
    "papermill": {
     "duration": 0.013737,
     "end_time": "2022-08-17T18:47:09.757726",
     "exception": false,
     "start_time": "2022-08-17T18:47:09.743989",
     "status": "completed"
    },
    "tags": []
   },
   "outputs": [
    {
     "name": "stdout",
     "output_type": "stream",
     "text": [
      "silent is anagram of selint\n"
     ]
    }
   ],
   "source": [
    "str1 = 'silent'\n",
    "str2 = 'selint'\n",
    "\n",
    "counts = {}\n",
    "for i,j in zip(str1,str2):\n",
    "    counts[i]= counts.get(i,0)+1\n",
    "    counts[j]= counts.get(j,0)-1\n",
    "\n",
    "if len(set(counts.values()))==1:\n",
    "    print(f\"{str1} is anagram of {str2}\")\n",
    "else:\n",
    "    print(\"Strings are not anagram..\")"
   ]
  }
 ],
 "metadata": {
  "kernelspec": {
   "display_name": "Python 3",
   "language": "python",
   "name": "python3"
  },
  "language_info": {
   "codemirror_mode": {
    "name": "ipython",
    "version": 3
   },
   "file_extension": ".py",
   "mimetype": "text/x-python",
   "name": "python",
   "nbconvert_exporter": "python",
   "pygments_lexer": "ipython3",
   "version": "3.7.12"
  },
  "papermill": {
   "default_parameters": {},
   "duration": 12.5962,
   "end_time": "2022-08-17T18:47:10.482187",
   "environment_variables": {},
   "exception": null,
   "input_path": "__notebook__.ipynb",
   "output_path": "__notebook__.ipynb",
   "parameters": {},
   "start_time": "2022-08-17T18:46:57.885987",
   "version": "2.3.4"
  }
 },
 "nbformat": 4,
 "nbformat_minor": 5
}
