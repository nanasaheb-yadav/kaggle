{
 "cells": [
  {
   "cell_type": "markdown",
   "id": "13406763",
   "metadata": {
    "papermill": {
     "duration": 0.002978,
     "end_time": "2022-08-16T18:07:11.779767",
     "exception": false,
     "start_time": "2022-08-16T18:07:11.776789",
     "status": "completed"
    },
    "tags": []
   },
   "source": [
    "#### Question:\n",
    "    Find minimum number in given list \n",
    "    list1 = [4,3,7,8,3,2,9]"
   ]
  },
  {
   "cell_type": "code",
   "execution_count": 1,
   "id": "404f0d5d",
   "metadata": {
    "execution": {
     "iopub.execute_input": "2022-08-16T18:07:11.786098Z",
     "iopub.status.busy": "2022-08-16T18:07:11.785472Z",
     "iopub.status.idle": "2022-08-16T18:07:11.801365Z",
     "shell.execute_reply": "2022-08-16T18:07:11.800162Z"
    },
    "papermill": {
     "duration": 0.02239,
     "end_time": "2022-08-16T18:07:11.804211",
     "exception": false,
     "start_time": "2022-08-16T18:07:11.781821",
     "status": "completed"
    },
    "tags": []
   },
   "outputs": [
    {
     "name": "stdout",
     "output_type": "stream",
     "text": [
      "2\n"
     ]
    }
   ],
   "source": [
    "list1 = [4,3,7,8,3,2,9]\n",
    "length = len(list1)\n",
    "minval = list1[0]\n",
    "for i in range(length-1):\n",
    "    if minval > list1[i+1]:\n",
    "        minval = list1[i+1]\n",
    "print(minval)"
   ]
  },
  {
   "cell_type": "markdown",
   "id": "93e773a6",
   "metadata": {
    "papermill": {
     "duration": 0.001776,
     "end_time": "2022-08-16T18:07:11.808205",
     "exception": false,
     "start_time": "2022-08-16T18:07:11.806429",
     "status": "completed"
    },
    "tags": []
   },
   "source": [
    "#### Question:\n",
    "        Match prefix for each string elements in list, if its not matching with any element then it should return None value.\n",
    " \n",
    "input = [\"Apple\", 'Application', 'Apply', 'Apply']\n",
    "<br>\n",
    "input2 = [\"Apple\", 'Application', 'Apply', 'NonVal']"
   ]
  },
  {
   "cell_type": "code",
   "execution_count": 2,
   "id": "81cb1479",
   "metadata": {
    "execution": {
     "iopub.execute_input": "2022-08-16T18:07:11.814127Z",
     "iopub.status.busy": "2022-08-16T18:07:11.813461Z",
     "iopub.status.idle": "2022-08-16T18:07:11.820995Z",
     "shell.execute_reply": "2022-08-16T18:07:11.819772Z"
    },
    "papermill": {
     "duration": 0.012954,
     "end_time": "2022-08-16T18:07:11.823064",
     "exception": false,
     "start_time": "2022-08-16T18:07:11.810110",
     "status": "completed"
    },
    "tags": []
   },
   "outputs": [
    {
     "name": "stdout",
     "output_type": "stream",
     "text": [
      "Appl\n"
     ]
    }
   ],
   "source": [
    "input1 = [\"Apple\", 'Application', 'Apply', 'Apply']\n",
    "input2 = [\"Apple\", 'Application', 'Apply', 'NonVal']\n",
    "\n",
    "out = zip(*input1)\n",
    "val = ''\n",
    "for i in out:\n",
    "    #print(i)\n",
    "    if len(set(i))==1:\n",
    "        val = f\"{val}{i[0]}\"\n",
    "    else:\n",
    "        break\n",
    "print(val)"
   ]
  },
  {
   "cell_type": "code",
   "execution_count": null,
   "id": "4eb501b9",
   "metadata": {
    "papermill": {
     "duration": 0.001751,
     "end_time": "2022-08-16T18:07:11.826951",
     "exception": false,
     "start_time": "2022-08-16T18:07:11.825200",
     "status": "completed"
    },
    "tags": []
   },
   "outputs": [],
   "source": []
  }
 ],
 "metadata": {
  "kernelspec": {
   "display_name": "Python 3",
   "language": "python",
   "name": "python3"
  },
  "language_info": {
   "codemirror_mode": {
    "name": "ipython",
    "version": 3
   },
   "file_extension": ".py",
   "mimetype": "text/x-python",
   "name": "python",
   "nbconvert_exporter": "python",
   "pygments_lexer": "ipython3",
   "version": "3.7.12"
  },
  "papermill": {
   "default_parameters": {},
   "duration": 9.324942,
   "end_time": "2022-08-16T18:07:12.449438",
   "environment_variables": {},
   "exception": null,
   "input_path": "__notebook__.ipynb",
   "output_path": "__notebook__.ipynb",
   "parameters": {},
   "start_time": "2022-08-16T18:07:03.124496",
   "version": "2.3.4"
  }
 },
 "nbformat": 4,
 "nbformat_minor": 5
}
