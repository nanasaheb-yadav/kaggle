{
 "cells": [
  {
   "cell_type": "markdown",
   "id": "6a80a134",
   "metadata": {
    "papermill": {
     "duration": 0.00419,
     "end_time": "2022-08-05T20:27:15.890254",
     "exception": false,
     "start_time": "2022-08-05T20:27:15.886064",
     "status": "completed"
    },
    "tags": []
   },
   "source": [
    "### Exercise 1:\n",
    "        Reverse the tuple. \n",
    "   <b>tuple1 = (10, 20, 30, 40, 50)</b>"
   ]
  },
  {
   "cell_type": "code",
   "execution_count": 1,
   "id": "01ef1bf4",
   "metadata": {
    "execution": {
     "iopub.execute_input": "2022-08-05T20:27:15.900378Z",
     "iopub.status.busy": "2022-08-05T20:27:15.898684Z",
     "iopub.status.idle": "2022-08-05T20:27:15.929249Z",
     "shell.execute_reply": "2022-08-05T20:27:15.928263Z"
    },
    "papermill": {
     "duration": 0.038727,
     "end_time": "2022-08-05T20:27:15.932341",
     "exception": false,
     "start_time": "2022-08-05T20:27:15.893614",
     "status": "completed"
    },
    "tags": []
   },
   "outputs": [
    {
     "data": {
      "text/plain": [
       "(50, 40, 30, 20, 10)"
      ]
     },
     "execution_count": 1,
     "metadata": {},
     "output_type": "execute_result"
    }
   ],
   "source": [
    "tuple1 = (10, 20, 30, 40, 50)\n",
    "\n",
    "tuple1[::-1]"
   ]
  },
  {
   "cell_type": "markdown",
   "id": "76b34ce5",
   "metadata": {
    "papermill": {
     "duration": 0.002662,
     "end_time": "2022-08-05T20:27:15.938108",
     "exception": false,
     "start_time": "2022-08-05T20:27:15.935446",
     "status": "completed"
    },
    "tags": []
   },
   "source": [
    "### Exercise 2: Access value 20 from the tuple\n",
    "    The given tuple is a nested tuple. write a Python program to print the value 20.\n"
   ]
  },
  {
   "cell_type": "code",
   "execution_count": 2,
   "id": "31f42255",
   "metadata": {
    "execution": {
     "iopub.execute_input": "2022-08-05T20:27:15.946101Z",
     "iopub.status.busy": "2022-08-05T20:27:15.945051Z",
     "iopub.status.idle": "2022-08-05T20:27:15.953031Z",
     "shell.execute_reply": "2022-08-05T20:27:15.952083Z"
    },
    "papermill": {
     "duration": 0.014373,
     "end_time": "2022-08-05T20:27:15.955230",
     "exception": false,
     "start_time": "2022-08-05T20:27:15.940857",
     "status": "completed"
    },
    "tags": []
   },
   "outputs": [
    {
     "data": {
      "text/plain": [
       "20"
      ]
     },
     "execution_count": 2,
     "metadata": {},
     "output_type": "execute_result"
    }
   ],
   "source": [
    "tuple1 = (\"Orange\", [10, 20, 30], (5, 15, 25))\n",
    "tuple1[1][1]"
   ]
  },
  {
   "cell_type": "markdown",
   "id": "c438dd1b",
   "metadata": {
    "papermill": {
     "duration": 0.002676,
     "end_time": "2022-08-05T20:27:15.960970",
     "exception": false,
     "start_time": "2022-08-05T20:27:15.958294",
     "status": "completed"
    },
    "tags": []
   },
   "source": [
    "### Exercise 3: Create a tuple with single item 50.\n",
    "\n"
   ]
  },
  {
   "cell_type": "code",
   "execution_count": 3,
   "id": "78de9bd2",
   "metadata": {
    "execution": {
     "iopub.execute_input": "2022-08-05T20:27:15.969009Z",
     "iopub.status.busy": "2022-08-05T20:27:15.968227Z",
     "iopub.status.idle": "2022-08-05T20:27:15.975290Z",
     "shell.execute_reply": "2022-08-05T20:27:15.974127Z"
    },
    "papermill": {
     "duration": 0.013785,
     "end_time": "2022-08-05T20:27:15.977645",
     "exception": false,
     "start_time": "2022-08-05T20:27:15.963860",
     "status": "completed"
    },
    "tags": []
   },
   "outputs": [
    {
     "data": {
      "text/plain": [
       "(50,)"
      ]
     },
     "execution_count": 3,
     "metadata": {},
     "output_type": "execute_result"
    }
   ],
   "source": [
    "tuple1 = (50,)\n",
    "tuple1"
   ]
  },
  {
   "cell_type": "markdown",
   "id": "49dd0747",
   "metadata": {
    "papermill": {
     "duration": 0.002903,
     "end_time": "2022-08-05T20:27:15.983875",
     "exception": false,
     "start_time": "2022-08-05T20:27:15.980972",
     "status": "completed"
    },
    "tags": []
   },
   "source": [
    "### Exercise 4: Unpack the tuple into 4 variables"
   ]
  },
  {
   "cell_type": "code",
   "execution_count": 4,
   "id": "b4c714e0",
   "metadata": {
    "execution": {
     "iopub.execute_input": "2022-08-05T20:27:15.992537Z",
     "iopub.status.busy": "2022-08-05T20:27:15.991808Z",
     "iopub.status.idle": "2022-08-05T20:27:15.998843Z",
     "shell.execute_reply": "2022-08-05T20:27:15.997816Z"
    },
    "papermill": {
     "duration": 0.014084,
     "end_time": "2022-08-05T20:27:16.001021",
     "exception": false,
     "start_time": "2022-08-05T20:27:15.986937",
     "status": "completed"
    },
    "tags": []
   },
   "outputs": [
    {
     "data": {
      "text/plain": [
       "40"
      ]
     },
     "execution_count": 4,
     "metadata": {},
     "output_type": "execute_result"
    }
   ],
   "source": [
    "tuple1 = (10, 20, 30, 40)\n",
    "a,b,c,d =tuple1\n",
    "a\n",
    "b\n",
    "c\n",
    "d"
   ]
  },
  {
   "cell_type": "markdown",
   "id": "cb6e2167",
   "metadata": {
    "papermill": {
     "duration": 0.002929,
     "end_time": "2022-08-05T20:27:16.007384",
     "exception": false,
     "start_time": "2022-08-05T20:27:16.004455",
     "status": "completed"
    },
    "tags": []
   },
   "source": [
    "### Exercise 5: Swap two tuples in Python"
   ]
  },
  {
   "cell_type": "code",
   "execution_count": 5,
   "id": "5faed0eb",
   "metadata": {
    "execution": {
     "iopub.execute_input": "2022-08-05T20:27:16.016859Z",
     "iopub.status.busy": "2022-08-05T20:27:16.016150Z",
     "iopub.status.idle": "2022-08-05T20:27:16.024421Z",
     "shell.execute_reply": "2022-08-05T20:27:16.022292Z"
    },
    "papermill": {
     "duration": 0.017267,
     "end_time": "2022-08-05T20:27:16.028053",
     "exception": false,
     "start_time": "2022-08-05T20:27:16.010786",
     "status": "completed"
    },
    "tags": []
   },
   "outputs": [
    {
     "name": "stdout",
     "output_type": "stream",
     "text": [
      "139892502343104\n",
      "139892511115056\n",
      "139892511115056\n",
      "139892502343104\n",
      "(99, 88)\n",
      "(11, 22)\n"
     ]
    }
   ],
   "source": [
    "tuple1 = (11, 22)\n",
    "tuple2 = (99, 88)\n",
    "print(id(tuple1))\n",
    "print(id(tuple2))\n",
    "\n",
    "tuple1, tuple2 = tuple2, tuple1\n",
    "print(id(tuple1))\n",
    "print(id(tuple2))\n",
    "\n",
    "print(tuple1)\n",
    "print(tuple2)"
   ]
  }
 ],
 "metadata": {
  "kernelspec": {
   "display_name": "Python 3",
   "language": "python",
   "name": "python3"
  },
  "language_info": {
   "codemirror_mode": {
    "name": "ipython",
    "version": 3
   },
   "file_extension": ".py",
   "mimetype": "text/x-python",
   "name": "python",
   "nbconvert_exporter": "python",
   "pygments_lexer": "ipython3",
   "version": "3.7.12"
  },
  "papermill": {
   "default_parameters": {},
   "duration": 11.029088,
   "end_time": "2022-08-05T20:27:16.653815",
   "environment_variables": {},
   "exception": null,
   "input_path": "__notebook__.ipynb",
   "output_path": "__notebook__.ipynb",
   "parameters": {},
   "start_time": "2022-08-05T20:27:05.624727",
   "version": "2.3.4"
  }
 },
 "nbformat": 4,
 "nbformat_minor": 5
}
