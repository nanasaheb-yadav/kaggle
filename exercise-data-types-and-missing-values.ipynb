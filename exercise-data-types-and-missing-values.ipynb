{
 "cells": [
  {
   "cell_type": "markdown",
   "id": "76842a9a",
   "metadata": {
    "papermill": {
     "duration": 0.006213,
     "end_time": "2022-06-26T05:55:06.172226",
     "exception": false,
     "start_time": "2022-06-26T05:55:06.166013",
     "status": "completed"
    },
    "tags": []
   },
   "source": [
    "**This notebook is an exercise in the [Pandas](https://www.kaggle.com/learn/pandas) course.  You can reference the tutorial at [this link](https://www.kaggle.com/residentmario/data-types-and-missing-values).**\n",
    "\n",
    "---\n"
   ]
  },
  {
   "cell_type": "markdown",
   "id": "3c101644",
   "metadata": {
    "papermill": {
     "duration": 0.004403,
     "end_time": "2022-06-26T05:55:06.181573",
     "exception": false,
     "start_time": "2022-06-26T05:55:06.177170",
     "status": "completed"
    },
    "tags": []
   },
   "source": [
    "# Introduction\n",
    "\n",
    "Run the following cell to load your data and some utility functions."
   ]
  },
  {
   "cell_type": "code",
   "execution_count": 1,
   "id": "34ee5a19",
   "metadata": {
    "execution": {
     "iopub.execute_input": "2022-06-26T05:55:06.194036Z",
     "iopub.status.busy": "2022-06-26T05:55:06.193053Z",
     "iopub.status.idle": "2022-06-26T05:55:09.106095Z",
     "shell.execute_reply": "2022-06-26T05:55:09.104705Z"
    },
    "papermill": {
     "duration": 2.923216,
     "end_time": "2022-06-26T05:55:09.109531",
     "exception": false,
     "start_time": "2022-06-26T05:55:06.186315",
     "status": "completed"
    },
    "tags": []
   },
   "outputs": [
    {
     "name": "stdout",
     "output_type": "stream",
     "text": [
      "Setup complete.\n"
     ]
    }
   ],
   "source": [
    "import pandas as pd\n",
    "\n",
    "reviews = pd.read_csv(\"../input/wine-reviews/winemag-data-130k-v2.csv\", index_col=0)\n",
    "\n",
    "from learntools.core import binder; binder.bind(globals())\n",
    "from learntools.pandas.data_types_and_missing_data import *\n",
    "print(\"Setup complete.\")"
   ]
  },
  {
   "cell_type": "markdown",
   "id": "1605ec71",
   "metadata": {
    "papermill": {
     "duration": 0.00473,
     "end_time": "2022-06-26T05:55:09.119195",
     "exception": false,
     "start_time": "2022-06-26T05:55:09.114465",
     "status": "completed"
    },
    "tags": []
   },
   "source": [
    "# Exercises"
   ]
  },
  {
   "cell_type": "markdown",
   "id": "5b5e12d4",
   "metadata": {
    "papermill": {
     "duration": 0.004552,
     "end_time": "2022-06-26T05:55:09.128794",
     "exception": false,
     "start_time": "2022-06-26T05:55:09.124242",
     "status": "completed"
    },
    "tags": []
   },
   "source": [
    "## 1. \n",
    "What is the data type of the `points` column in the dataset?"
   ]
  },
  {
   "cell_type": "code",
   "execution_count": 2,
   "id": "4a22eb46",
   "metadata": {
    "execution": {
     "iopub.execute_input": "2022-06-26T05:55:09.140676Z",
     "iopub.status.busy": "2022-06-26T05:55:09.139933Z",
     "iopub.status.idle": "2022-06-26T05:55:09.150224Z",
     "shell.execute_reply": "2022-06-26T05:55:09.149475Z"
    },
    "papermill": {
     "duration": 0.018389,
     "end_time": "2022-06-26T05:55:09.152111",
     "exception": false,
     "start_time": "2022-06-26T05:55:09.133722",
     "status": "completed"
    },
    "tags": []
   },
   "outputs": [
    {
     "data": {
      "application/javascript": [
       "parent.postMessage({\"jupyterEvent\": \"custom.exercise_interaction\", \"data\": {\"outcomeType\": 1, \"valueTowardsCompletion\": 0.25, \"interactionType\": 1, \"questionType\": 1, \"questionId\": \"1_PointsDtype\", \"learnToolsVersion\": \"0.3.4\", \"failureMessage\": \"\", \"exceptionClass\": \"\", \"trace\": \"\"}}, \"*\")"
      ],
      "text/plain": [
       "<IPython.core.display.Javascript object>"
      ]
     },
     "metadata": {},
     "output_type": "display_data"
    },
    {
     "data": {
      "text/markdown": [
       "<span style=\"color:#33cc33\">Correct</span>"
      ],
      "text/plain": [
       "Correct"
      ]
     },
     "metadata": {},
     "output_type": "display_data"
    }
   ],
   "source": [
    "# Your code here\n",
    "dtype = reviews.points.dtype\n",
    "\n",
    "# Check your answer\n",
    "q1.check()"
   ]
  },
  {
   "cell_type": "code",
   "execution_count": 3,
   "id": "e7a24995",
   "metadata": {
    "execution": {
     "iopub.execute_input": "2022-06-26T05:55:09.163819Z",
     "iopub.status.busy": "2022-06-26T05:55:09.163452Z",
     "iopub.status.idle": "2022-06-26T05:55:09.166977Z",
     "shell.execute_reply": "2022-06-26T05:55:09.166211Z"
    },
    "papermill": {
     "duration": 0.011841,
     "end_time": "2022-06-26T05:55:09.168999",
     "exception": false,
     "start_time": "2022-06-26T05:55:09.157158",
     "status": "completed"
    },
    "tags": []
   },
   "outputs": [],
   "source": [
    "#q1.hint()\n",
    "#q1.solution()"
   ]
  },
  {
   "cell_type": "markdown",
   "id": "85e831ee",
   "metadata": {
    "papermill": {
     "duration": 0.004799,
     "end_time": "2022-06-26T05:55:09.178885",
     "exception": false,
     "start_time": "2022-06-26T05:55:09.174086",
     "status": "completed"
    },
    "tags": []
   },
   "source": [
    "## 2. \n",
    "Create a Series from entries in the `points` column, but convert the entries to strings. Hint: strings are `str` in native Python."
   ]
  },
  {
   "cell_type": "code",
   "execution_count": 4,
   "id": "14587d35",
   "metadata": {
    "execution": {
     "iopub.execute_input": "2022-06-26T05:55:09.191257Z",
     "iopub.status.busy": "2022-06-26T05:55:09.190556Z",
     "iopub.status.idle": "2022-06-26T05:55:09.330998Z",
     "shell.execute_reply": "2022-06-26T05:55:09.330252Z"
    },
    "papermill": {
     "duration": 0.149055,
     "end_time": "2022-06-26T05:55:09.333016",
     "exception": false,
     "start_time": "2022-06-26T05:55:09.183961",
     "status": "completed"
    },
    "tags": []
   },
   "outputs": [
    {
     "data": {
      "application/javascript": [
       "parent.postMessage({\"jupyterEvent\": \"custom.exercise_interaction\", \"data\": {\"outcomeType\": 1, \"valueTowardsCompletion\": 0.25, \"interactionType\": 1, \"questionType\": 1, \"questionId\": \"2_StrPoints\", \"learnToolsVersion\": \"0.3.4\", \"failureMessage\": \"\", \"exceptionClass\": \"\", \"trace\": \"\"}}, \"*\")"
      ],
      "text/plain": [
       "<IPython.core.display.Javascript object>"
      ]
     },
     "metadata": {},
     "output_type": "display_data"
    },
    {
     "data": {
      "text/markdown": [
       "<span style=\"color:#33cc33\">Correct</span>"
      ],
      "text/plain": [
       "Correct"
      ]
     },
     "metadata": {},
     "output_type": "display_data"
    }
   ],
   "source": [
    "point_strings = reviews.points.astype('str')\n",
    "\n",
    "# Check your answer\n",
    "q2.check()"
   ]
  },
  {
   "cell_type": "code",
   "execution_count": 5,
   "id": "42b36232",
   "metadata": {
    "execution": {
     "iopub.execute_input": "2022-06-26T05:55:09.345849Z",
     "iopub.status.busy": "2022-06-26T05:55:09.345159Z",
     "iopub.status.idle": "2022-06-26T05:55:09.348880Z",
     "shell.execute_reply": "2022-06-26T05:55:09.347973Z"
    },
    "papermill": {
     "duration": 0.012895,
     "end_time": "2022-06-26T05:55:09.351216",
     "exception": false,
     "start_time": "2022-06-26T05:55:09.338321",
     "status": "completed"
    },
    "tags": []
   },
   "outputs": [],
   "source": [
    "#q2.hint()\n",
    "#q2.solution()"
   ]
  },
  {
   "cell_type": "markdown",
   "id": "02c67346",
   "metadata": {
    "papermill": {
     "duration": 0.005109,
     "end_time": "2022-06-26T05:55:09.361747",
     "exception": false,
     "start_time": "2022-06-26T05:55:09.356638",
     "status": "completed"
    },
    "tags": []
   },
   "source": [
    "## 3.\n",
    "Sometimes the price column is null. How many reviews in the dataset are missing a price?"
   ]
  },
  {
   "cell_type": "code",
   "execution_count": 6,
   "id": "a3fe3f9b",
   "metadata": {
    "execution": {
     "iopub.execute_input": "2022-06-26T05:55:09.374473Z",
     "iopub.status.busy": "2022-06-26T05:55:09.373772Z",
     "iopub.status.idle": "2022-06-26T05:55:09.382263Z",
     "shell.execute_reply": "2022-06-26T05:55:09.381264Z"
    },
    "papermill": {
     "duration": 0.017478,
     "end_time": "2022-06-26T05:55:09.384454",
     "exception": false,
     "start_time": "2022-06-26T05:55:09.366976",
     "status": "completed"
    },
    "tags": []
   },
   "outputs": [
    {
     "data": {
      "application/javascript": [
       "parent.postMessage({\"jupyterEvent\": \"custom.exercise_interaction\", \"data\": {\"outcomeType\": 1, \"valueTowardsCompletion\": 0.25, \"interactionType\": 1, \"questionType\": 1, \"questionId\": \"3_CountMissingPrices\", \"learnToolsVersion\": \"0.3.4\", \"failureMessage\": \"\", \"exceptionClass\": \"\", \"trace\": \"\"}}, \"*\")"
      ],
      "text/plain": [
       "<IPython.core.display.Javascript object>"
      ]
     },
     "metadata": {},
     "output_type": "display_data"
    },
    {
     "data": {
      "text/markdown": [
       "<span style=\"color:#33cc33\">Correct</span>"
      ],
      "text/plain": [
       "Correct"
      ]
     },
     "metadata": {},
     "output_type": "display_data"
    }
   ],
   "source": [
    "n_missing_prices = reviews.price.isnull().sum()\n",
    "\n",
    "# Check your answer\n",
    "q3.check()"
   ]
  },
  {
   "cell_type": "code",
   "execution_count": 7,
   "id": "218b3a8e",
   "metadata": {
    "execution": {
     "iopub.execute_input": "2022-06-26T05:55:09.397828Z",
     "iopub.status.busy": "2022-06-26T05:55:09.397153Z",
     "iopub.status.idle": "2022-06-26T05:55:09.400792Z",
     "shell.execute_reply": "2022-06-26T05:55:09.399998Z"
    },
    "papermill": {
     "duration": 0.012655,
     "end_time": "2022-06-26T05:55:09.402761",
     "exception": false,
     "start_time": "2022-06-26T05:55:09.390106",
     "status": "completed"
    },
    "tags": []
   },
   "outputs": [],
   "source": [
    "#q3.hint()\n",
    "#q3.solution()"
   ]
  },
  {
   "cell_type": "markdown",
   "id": "5710d1ff",
   "metadata": {
    "papermill": {
     "duration": 0.005453,
     "end_time": "2022-06-26T05:55:09.413794",
     "exception": false,
     "start_time": "2022-06-26T05:55:09.408341",
     "status": "completed"
    },
    "tags": []
   },
   "source": [
    "## 4.\n",
    "What are the most common wine-producing regions? Create a Series counting the number of times each value occurs in the `region_1` field. This field is often missing data, so replace missing values with `Unknown`. Sort in descending order.  Your output should look something like this:\n",
    "\n",
    "```\n",
    "Unknown                    21247\n",
    "Napa Valley                 4480\n",
    "                           ...  \n",
    "Bardolino Superiore            1\n",
    "Primitivo del Tarantino        1\n",
    "Name: region_1, Length: 1230, dtype: int64\n",
    "```"
   ]
  },
  {
   "cell_type": "code",
   "execution_count": 8,
   "id": "9f27c2a0",
   "metadata": {
    "execution": {
     "iopub.execute_input": "2022-06-26T05:55:09.427083Z",
     "iopub.status.busy": "2022-06-26T05:55:09.426186Z",
     "iopub.status.idle": "2022-06-26T05:55:09.503256Z",
     "shell.execute_reply": "2022-06-26T05:55:09.502526Z"
    },
    "papermill": {
     "duration": 0.085965,
     "end_time": "2022-06-26T05:55:09.505316",
     "exception": false,
     "start_time": "2022-06-26T05:55:09.419351",
     "status": "completed"
    },
    "tags": []
   },
   "outputs": [
    {
     "data": {
      "application/javascript": [
       "parent.postMessage({\"jupyterEvent\": \"custom.exercise_interaction\", \"data\": {\"outcomeType\": 1, \"valueTowardsCompletion\": 0.25, \"interactionType\": 1, \"questionType\": 2, \"questionId\": \"4_ReviewsPerRegion\", \"learnToolsVersion\": \"0.3.4\", \"failureMessage\": \"\", \"exceptionClass\": \"\", \"trace\": \"\"}}, \"*\")"
      ],
      "text/plain": [
       "<IPython.core.display.Javascript object>"
      ]
     },
     "metadata": {},
     "output_type": "display_data"
    },
    {
     "data": {
      "text/markdown": [
       "<span style=\"color:#33cc33\">Correct</span>"
      ],
      "text/plain": [
       "Correct"
      ]
     },
     "metadata": {},
     "output_type": "display_data"
    }
   ],
   "source": [
    "reviews_per_region = reviews.region_1.fillna('Unknown').value_counts().sort_values(ascending=False)\n",
    "\n",
    "# Check your answer\n",
    "q4.check()"
   ]
  },
  {
   "cell_type": "code",
   "execution_count": 9,
   "id": "72976dea",
   "metadata": {
    "execution": {
     "iopub.execute_input": "2022-06-26T05:55:09.519407Z",
     "iopub.status.busy": "2022-06-26T05:55:09.518499Z",
     "iopub.status.idle": "2022-06-26T05:55:09.562769Z",
     "shell.execute_reply": "2022-06-26T05:55:09.561588Z"
    },
    "papermill": {
     "duration": 0.053985,
     "end_time": "2022-06-26T05:55:09.565351",
     "exception": false,
     "start_time": "2022-06-26T05:55:09.511366",
     "status": "completed"
    },
    "tags": []
   },
   "outputs": [
    {
     "data": {
      "text/plain": [
       "Unknown                 21247\n",
       "Napa Valley              4480\n",
       "Columbia Valley (WA)     4124\n",
       "Russian River Valley     3091\n",
       "California               2629\n",
       "                        ...  \n",
       "Offida Rosso                1\n",
       "Corton Perrières            1\n",
       "Isle St. George             1\n",
       "Geelong                     1\n",
       "Paestum                     1\n",
       "Name: region_1, Length: 1230, dtype: int64"
      ]
     },
     "execution_count": 9,
     "metadata": {},
     "output_type": "execute_result"
    }
   ],
   "source": [
    "#q4.hint()\n",
    "#q4.solution()\n",
    "reviews_per_region = reviews.region_1.fillna('Unknown').value_counts().sort_values(ascending=False)\n",
    "reviews_per_region"
   ]
  },
  {
   "cell_type": "markdown",
   "id": "c45c33ff",
   "metadata": {
    "papermill": {
     "duration": 0.005906,
     "end_time": "2022-06-26T05:55:09.577481",
     "exception": false,
     "start_time": "2022-06-26T05:55:09.571575",
     "status": "completed"
    },
    "tags": []
   },
   "source": [
    "# Keep going\n",
    "\n",
    "Move on to **[renaming and combining](https://www.kaggle.com/residentmario/renaming-and-combining)**."
   ]
  },
  {
   "cell_type": "markdown",
   "id": "9e7f8981",
   "metadata": {
    "papermill": {
     "duration": 0.005901,
     "end_time": "2022-06-26T05:55:09.589460",
     "exception": false,
     "start_time": "2022-06-26T05:55:09.583559",
     "status": "completed"
    },
    "tags": []
   },
   "source": [
    "---\n",
    "\n",
    "\n",
    "\n",
    "\n",
    "*Have questions or comments? Visit the [course discussion forum](https://www.kaggle.com/learn/pandas/discussion) to chat with other learners.*"
   ]
  }
 ],
 "metadata": {
  "kernelspec": {
   "display_name": "Python 3",
   "language": "python",
   "name": "python3"
  },
  "language_info": {
   "codemirror_mode": {
    "name": "ipython",
    "version": 3
   },
   "file_extension": ".py",
   "mimetype": "text/x-python",
   "name": "python",
   "nbconvert_exporter": "python",
   "pygments_lexer": "ipython3",
   "version": "3.7.12"
  },
  "papermill": {
   "default_parameters": {},
   "duration": 14.508968,
   "end_time": "2022-06-26T05:55:10.316658",
   "environment_variables": {},
   "exception": null,
   "input_path": "__notebook__.ipynb",
   "output_path": "__notebook__.ipynb",
   "parameters": {},
   "start_time": "2022-06-26T05:54:55.807690",
   "version": "2.3.4"
  }
 },
 "nbformat": 4,
 "nbformat_minor": 5
}
