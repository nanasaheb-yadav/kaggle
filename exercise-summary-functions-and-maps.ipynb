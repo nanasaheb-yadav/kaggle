{
 "cells": [
  {
   "cell_type": "markdown",
   "id": "d6155ae1",
   "metadata": {
    "papermill": {
     "duration": 0.008559,
     "end_time": "2022-06-20T19:30:09.474527",
     "exception": false,
     "start_time": "2022-06-20T19:30:09.465968",
     "status": "completed"
    },
    "tags": []
   },
   "source": [
    "**This notebook is an exercise in the [Pandas](https://www.kaggle.com/learn/pandas) course.  You can reference the tutorial at [this link](https://www.kaggle.com/residentmario/summary-functions-and-maps).**\n",
    "\n",
    "---\n"
   ]
  },
  {
   "cell_type": "markdown",
   "id": "f48a956f",
   "metadata": {
    "papermill": {
     "duration": 0.004733,
     "end_time": "2022-06-20T19:30:09.484515",
     "exception": false,
     "start_time": "2022-06-20T19:30:09.479782",
     "status": "completed"
    },
    "tags": []
   },
   "source": [
    "# Introduction\n",
    "\n",
    "Now you are ready to get a deeper understanding of your data.\n",
    "\n",
    "Run the following cell to load your data and some utility functions (including code to check your answers)."
   ]
  },
  {
   "cell_type": "code",
   "execution_count": 1,
   "id": "c9e07457",
   "metadata": {
    "execution": {
     "iopub.execute_input": "2022-06-20T19:30:09.496299Z",
     "iopub.status.busy": "2022-06-20T19:30:09.495846Z",
     "iopub.status.idle": "2022-06-20T19:30:15.531943Z",
     "shell.execute_reply": "2022-06-20T19:30:15.530707Z"
    },
    "papermill": {
     "duration": 6.045973,
     "end_time": "2022-06-20T19:30:15.535499",
     "exception": false,
     "start_time": "2022-06-20T19:30:09.489526",
     "status": "completed"
    },
    "tags": []
   },
   "outputs": [
    {
     "name": "stdout",
     "output_type": "stream",
     "text": [
      "Setup complete.\n"
     ]
    },
    {
     "data": {
      "text/html": [
       "<div>\n",
       "<style scoped>\n",
       "    .dataframe tbody tr th:only-of-type {\n",
       "        vertical-align: middle;\n",
       "    }\n",
       "\n",
       "    .dataframe tbody tr th {\n",
       "        vertical-align: top;\n",
       "    }\n",
       "\n",
       "    .dataframe thead th {\n",
       "        text-align: right;\n",
       "    }\n",
       "</style>\n",
       "<table border=\"1\" class=\"dataframe\">\n",
       "  <thead>\n",
       "    <tr style=\"text-align: right;\">\n",
       "      <th></th>\n",
       "      <th>country</th>\n",
       "      <th>description</th>\n",
       "      <th>designation</th>\n",
       "      <th>points</th>\n",
       "      <th>price</th>\n",
       "      <th>province</th>\n",
       "      <th>region_1</th>\n",
       "      <th>region_2</th>\n",
       "      <th>taster_name</th>\n",
       "      <th>taster_twitter_handle</th>\n",
       "      <th>title</th>\n",
       "      <th>variety</th>\n",
       "      <th>winery</th>\n",
       "    </tr>\n",
       "  </thead>\n",
       "  <tbody>\n",
       "    <tr>\n",
       "      <th>0</th>\n",
       "      <td>Italy</td>\n",
       "      <td>Aromas include tropical fruit, broom, brimston...</td>\n",
       "      <td>Vulkà Bianco</td>\n",
       "      <td>87</td>\n",
       "      <td>NaN</td>\n",
       "      <td>Sicily &amp; Sardinia</td>\n",
       "      <td>Etna</td>\n",
       "      <td>NaN</td>\n",
       "      <td>Kerin O’Keefe</td>\n",
       "      <td>@kerinokeefe</td>\n",
       "      <td>Nicosia 2013 Vulkà Bianco  (Etna)</td>\n",
       "      <td>White Blend</td>\n",
       "      <td>Nicosia</td>\n",
       "    </tr>\n",
       "    <tr>\n",
       "      <th>1</th>\n",
       "      <td>Portugal</td>\n",
       "      <td>This is ripe and fruity, a wine that is smooth...</td>\n",
       "      <td>Avidagos</td>\n",
       "      <td>87</td>\n",
       "      <td>15.0</td>\n",
       "      <td>Douro</td>\n",
       "      <td>NaN</td>\n",
       "      <td>NaN</td>\n",
       "      <td>Roger Voss</td>\n",
       "      <td>@vossroger</td>\n",
       "      <td>Quinta dos Avidagos 2011 Avidagos Red (Douro)</td>\n",
       "      <td>Portuguese Red</td>\n",
       "      <td>Quinta dos Avidagos</td>\n",
       "    </tr>\n",
       "    <tr>\n",
       "      <th>2</th>\n",
       "      <td>US</td>\n",
       "      <td>Tart and snappy, the flavors of lime flesh and...</td>\n",
       "      <td>NaN</td>\n",
       "      <td>87</td>\n",
       "      <td>14.0</td>\n",
       "      <td>Oregon</td>\n",
       "      <td>Willamette Valley</td>\n",
       "      <td>Willamette Valley</td>\n",
       "      <td>Paul Gregutt</td>\n",
       "      <td>@paulgwine</td>\n",
       "      <td>Rainstorm 2013 Pinot Gris (Willamette Valley)</td>\n",
       "      <td>Pinot Gris</td>\n",
       "      <td>Rainstorm</td>\n",
       "    </tr>\n",
       "    <tr>\n",
       "      <th>3</th>\n",
       "      <td>US</td>\n",
       "      <td>Pineapple rind, lemon pith and orange blossom ...</td>\n",
       "      <td>Reserve Late Harvest</td>\n",
       "      <td>87</td>\n",
       "      <td>13.0</td>\n",
       "      <td>Michigan</td>\n",
       "      <td>Lake Michigan Shore</td>\n",
       "      <td>NaN</td>\n",
       "      <td>Alexander Peartree</td>\n",
       "      <td>NaN</td>\n",
       "      <td>St. Julian 2013 Reserve Late Harvest Riesling ...</td>\n",
       "      <td>Riesling</td>\n",
       "      <td>St. Julian</td>\n",
       "    </tr>\n",
       "    <tr>\n",
       "      <th>4</th>\n",
       "      <td>US</td>\n",
       "      <td>Much like the regular bottling from 2012, this...</td>\n",
       "      <td>Vintner's Reserve Wild Child Block</td>\n",
       "      <td>87</td>\n",
       "      <td>65.0</td>\n",
       "      <td>Oregon</td>\n",
       "      <td>Willamette Valley</td>\n",
       "      <td>Willamette Valley</td>\n",
       "      <td>Paul Gregutt</td>\n",
       "      <td>@paulgwine</td>\n",
       "      <td>Sweet Cheeks 2012 Vintner's Reserve Wild Child...</td>\n",
       "      <td>Pinot Noir</td>\n",
       "      <td>Sweet Cheeks</td>\n",
       "    </tr>\n",
       "  </tbody>\n",
       "</table>\n",
       "</div>"
      ],
      "text/plain": [
       "    country                                        description  \\\n",
       "0     Italy  Aromas include tropical fruit, broom, brimston...   \n",
       "1  Portugal  This is ripe and fruity, a wine that is smooth...   \n",
       "2        US  Tart and snappy, the flavors of lime flesh and...   \n",
       "3        US  Pineapple rind, lemon pith and orange blossom ...   \n",
       "4        US  Much like the regular bottling from 2012, this...   \n",
       "\n",
       "                          designation  points  price           province  \\\n",
       "0                        Vulkà Bianco      87    NaN  Sicily & Sardinia   \n",
       "1                            Avidagos      87   15.0              Douro   \n",
       "2                                 NaN      87   14.0             Oregon   \n",
       "3                Reserve Late Harvest      87   13.0           Michigan   \n",
       "4  Vintner's Reserve Wild Child Block      87   65.0             Oregon   \n",
       "\n",
       "              region_1           region_2         taster_name  \\\n",
       "0                 Etna                NaN       Kerin O’Keefe   \n",
       "1                  NaN                NaN          Roger Voss   \n",
       "2    Willamette Valley  Willamette Valley        Paul Gregutt   \n",
       "3  Lake Michigan Shore                NaN  Alexander Peartree   \n",
       "4    Willamette Valley  Willamette Valley        Paul Gregutt   \n",
       "\n",
       "  taster_twitter_handle                                              title  \\\n",
       "0          @kerinokeefe                  Nicosia 2013 Vulkà Bianco  (Etna)   \n",
       "1            @vossroger      Quinta dos Avidagos 2011 Avidagos Red (Douro)   \n",
       "2           @paulgwine       Rainstorm 2013 Pinot Gris (Willamette Valley)   \n",
       "3                   NaN  St. Julian 2013 Reserve Late Harvest Riesling ...   \n",
       "4           @paulgwine   Sweet Cheeks 2012 Vintner's Reserve Wild Child...   \n",
       "\n",
       "          variety               winery  \n",
       "0     White Blend              Nicosia  \n",
       "1  Portuguese Red  Quinta dos Avidagos  \n",
       "2      Pinot Gris            Rainstorm  \n",
       "3        Riesling           St. Julian  \n",
       "4      Pinot Noir         Sweet Cheeks  "
      ]
     },
     "execution_count": 1,
     "metadata": {},
     "output_type": "execute_result"
    }
   ],
   "source": [
    "import pandas as pd\n",
    "pd.set_option(\"display.max_rows\", 5)\n",
    "reviews = pd.read_csv(\"../input/wine-reviews/winemag-data-130k-v2.csv\", index_col=0)\n",
    "\n",
    "from learntools.core import binder; binder.bind(globals())\n",
    "from learntools.pandas.summary_functions_and_maps import *\n",
    "print(\"Setup complete.\")\n",
    "\n",
    "reviews.head()"
   ]
  },
  {
   "cell_type": "markdown",
   "id": "9f30bc71",
   "metadata": {
    "papermill": {
     "duration": 0.005063,
     "end_time": "2022-06-20T19:30:15.546540",
     "exception": false,
     "start_time": "2022-06-20T19:30:15.541477",
     "status": "completed"
    },
    "tags": []
   },
   "source": [
    "# Exercises"
   ]
  },
  {
   "cell_type": "markdown",
   "id": "f3150862",
   "metadata": {
    "papermill": {
     "duration": 0.005275,
     "end_time": "2022-06-20T19:30:15.557129",
     "exception": false,
     "start_time": "2022-06-20T19:30:15.551854",
     "status": "completed"
    },
    "tags": []
   },
   "source": [
    "## 1.\n",
    "\n",
    "What is the median of the `points` column in the `reviews` DataFrame?"
   ]
  },
  {
   "cell_type": "code",
   "execution_count": 2,
   "id": "27b3bcbc",
   "metadata": {
    "execution": {
     "iopub.execute_input": "2022-06-20T19:30:15.570091Z",
     "iopub.status.busy": "2022-06-20T19:30:15.569355Z",
     "iopub.status.idle": "2022-06-20T19:30:15.579914Z",
     "shell.execute_reply": "2022-06-20T19:30:15.578858Z"
    },
    "papermill": {
     "duration": 0.019152,
     "end_time": "2022-06-20T19:30:15.581799",
     "exception": false,
     "start_time": "2022-06-20T19:30:15.562647",
     "status": "completed"
    },
    "tags": []
   },
   "outputs": [
    {
     "data": {
      "application/javascript": [
       "parent.postMessage({\"jupyterEvent\": \"custom.exercise_interaction\", \"data\": {\"outcomeType\": 1, \"valueTowardsCompletion\": 0.14285714285714285, \"interactionType\": 1, \"questionType\": 1, \"questionId\": \"1_MedianPoints\", \"learnToolsVersion\": \"0.3.4\", \"failureMessage\": \"\", \"exceptionClass\": \"\", \"trace\": \"\"}}, \"*\")"
      ],
      "text/plain": [
       "<IPython.core.display.Javascript object>"
      ]
     },
     "metadata": {},
     "output_type": "display_data"
    },
    {
     "data": {
      "text/markdown": [
       "<span style=\"color:#33cc33\">Correct</span>"
      ],
      "text/plain": [
       "Correct"
      ]
     },
     "metadata": {},
     "output_type": "display_data"
    }
   ],
   "source": [
    "median_points = reviews.points.median()\n",
    "\n",
    "# Check your answer\n",
    "q1.check()"
   ]
  },
  {
   "cell_type": "code",
   "execution_count": 3,
   "id": "ea71244e",
   "metadata": {
    "execution": {
     "iopub.execute_input": "2022-06-20T19:30:15.594821Z",
     "iopub.status.busy": "2022-06-20T19:30:15.594467Z",
     "iopub.status.idle": "2022-06-20T19:30:15.598148Z",
     "shell.execute_reply": "2022-06-20T19:30:15.597224Z"
    },
    "papermill": {
     "duration": 0.012528,
     "end_time": "2022-06-20T19:30:15.600055",
     "exception": false,
     "start_time": "2022-06-20T19:30:15.587527",
     "status": "completed"
    },
    "tags": []
   },
   "outputs": [],
   "source": [
    "#q1.hint()\n",
    "#q1.solution()"
   ]
  },
  {
   "cell_type": "markdown",
   "id": "c77d0a54",
   "metadata": {
    "papermill": {
     "duration": 0.005236,
     "end_time": "2022-06-20T19:30:15.610925",
     "exception": false,
     "start_time": "2022-06-20T19:30:15.605689",
     "status": "completed"
    },
    "tags": []
   },
   "source": [
    "## 2. \n",
    "What countries are represented in the dataset? (Your answer should not include any duplicates.)"
   ]
  },
  {
   "cell_type": "code",
   "execution_count": 4,
   "id": "0366631e",
   "metadata": {
    "execution": {
     "iopub.execute_input": "2022-06-20T19:30:15.623869Z",
     "iopub.status.busy": "2022-06-20T19:30:15.623076Z",
     "iopub.status.idle": "2022-06-20T19:30:15.637565Z",
     "shell.execute_reply": "2022-06-20T19:30:15.636911Z"
    },
    "papermill": {
     "duration": 0.02283,
     "end_time": "2022-06-20T19:30:15.639285",
     "exception": false,
     "start_time": "2022-06-20T19:30:15.616455",
     "status": "completed"
    },
    "tags": []
   },
   "outputs": [
    {
     "data": {
      "application/javascript": [
       "parent.postMessage({\"jupyterEvent\": \"custom.exercise_interaction\", \"data\": {\"outcomeType\": 1, \"valueTowardsCompletion\": 0.14285714285714285, \"interactionType\": 1, \"questionType\": 2, \"questionId\": \"2_UniqueCountries\", \"learnToolsVersion\": \"0.3.4\", \"failureMessage\": \"\", \"exceptionClass\": \"\", \"trace\": \"\"}}, \"*\")"
      ],
      "text/plain": [
       "<IPython.core.display.Javascript object>"
      ]
     },
     "metadata": {},
     "output_type": "display_data"
    },
    {
     "data": {
      "text/markdown": [
       "<span style=\"color:#33cc33\">Correct</span>"
      ],
      "text/plain": [
       "Correct"
      ]
     },
     "metadata": {},
     "output_type": "display_data"
    }
   ],
   "source": [
    "countries = reviews.country.unique()\n",
    "\n",
    "# Check your answer\n",
    "q2.check()"
   ]
  },
  {
   "cell_type": "code",
   "execution_count": 5,
   "id": "b78ad24b",
   "metadata": {
    "execution": {
     "iopub.execute_input": "2022-06-20T19:30:15.652632Z",
     "iopub.status.busy": "2022-06-20T19:30:15.651784Z",
     "iopub.status.idle": "2022-06-20T19:30:15.655148Z",
     "shell.execute_reply": "2022-06-20T19:30:15.654541Z"
    },
    "papermill": {
     "duration": 0.011743,
     "end_time": "2022-06-20T19:30:15.656809",
     "exception": false,
     "start_time": "2022-06-20T19:30:15.645066",
     "status": "completed"
    },
    "tags": []
   },
   "outputs": [],
   "source": [
    "#q2.hint()\n",
    "#q2.solution()"
   ]
  },
  {
   "cell_type": "markdown",
   "id": "693fdd13",
   "metadata": {
    "papermill": {
     "duration": 0.005692,
     "end_time": "2022-06-20T19:30:15.668381",
     "exception": false,
     "start_time": "2022-06-20T19:30:15.662689",
     "status": "completed"
    },
    "tags": []
   },
   "source": [
    "## 3.\n",
    "How often does each country appear in the dataset? Create a Series `reviews_per_country` mapping countries to the count of reviews of wines from that country."
   ]
  },
  {
   "cell_type": "code",
   "execution_count": 6,
   "id": "65ea421d",
   "metadata": {
    "execution": {
     "iopub.execute_input": "2022-06-20T19:30:15.681850Z",
     "iopub.status.busy": "2022-06-20T19:30:15.681165Z",
     "iopub.status.idle": "2022-06-20T19:30:15.696062Z",
     "shell.execute_reply": "2022-06-20T19:30:15.695240Z"
    },
    "papermill": {
     "duration": 0.023596,
     "end_time": "2022-06-20T19:30:15.697806",
     "exception": false,
     "start_time": "2022-06-20T19:30:15.674210",
     "status": "completed"
    },
    "tags": []
   },
   "outputs": [
    {
     "data": {
      "application/javascript": [
       "parent.postMessage({\"jupyterEvent\": \"custom.exercise_interaction\", \"data\": {\"outcomeType\": 1, \"valueTowardsCompletion\": 0.14285714285714285, \"interactionType\": 1, \"questionType\": 1, \"questionId\": \"3_ReviewsPerCountry\", \"learnToolsVersion\": \"0.3.4\", \"failureMessage\": \"\", \"exceptionClass\": \"\", \"trace\": \"\"}}, \"*\")"
      ],
      "text/plain": [
       "<IPython.core.display.Javascript object>"
      ]
     },
     "metadata": {},
     "output_type": "display_data"
    },
    {
     "data": {
      "text/markdown": [
       "<span style=\"color:#33cc33\">Correct</span>"
      ],
      "text/plain": [
       "Correct"
      ]
     },
     "metadata": {},
     "output_type": "display_data"
    }
   ],
   "source": [
    "reviews_per_country = reviews.country.value_counts()\n",
    "\n",
    "# Check your answer\n",
    "q3.check()"
   ]
  },
  {
   "cell_type": "code",
   "execution_count": 7,
   "id": "5323fe6a",
   "metadata": {
    "execution": {
     "iopub.execute_input": "2022-06-20T19:30:15.711203Z",
     "iopub.status.busy": "2022-06-20T19:30:15.710549Z",
     "iopub.status.idle": "2022-06-20T19:30:15.714021Z",
     "shell.execute_reply": "2022-06-20T19:30:15.713369Z"
    },
    "papermill": {
     "duration": 0.012199,
     "end_time": "2022-06-20T19:30:15.715758",
     "exception": false,
     "start_time": "2022-06-20T19:30:15.703559",
     "status": "completed"
    },
    "tags": []
   },
   "outputs": [],
   "source": [
    "#q3.hint()\n",
    "#q3.solution()"
   ]
  },
  {
   "cell_type": "markdown",
   "id": "0955f4a9",
   "metadata": {
    "papermill": {
     "duration": 0.005665,
     "end_time": "2022-06-20T19:30:15.727502",
     "exception": false,
     "start_time": "2022-06-20T19:30:15.721837",
     "status": "completed"
    },
    "tags": []
   },
   "source": [
    "## 4.\n",
    "Create variable `centered_price` containing a version of the `price` column with the mean price subtracted.\n",
    "\n",
    "(Note: this 'centering' transformation is a common preprocessing step before applying various machine learning algorithms.) "
   ]
  },
  {
   "cell_type": "code",
   "execution_count": 8,
   "id": "a40923e9",
   "metadata": {
    "execution": {
     "iopub.execute_input": "2022-06-20T19:30:15.741019Z",
     "iopub.status.busy": "2022-06-20T19:30:15.740433Z",
     "iopub.status.idle": "2022-06-20T19:30:15.796009Z",
     "shell.execute_reply": "2022-06-20T19:30:15.795062Z"
    },
    "papermill": {
     "duration": 0.064603,
     "end_time": "2022-06-20T19:30:15.797946",
     "exception": false,
     "start_time": "2022-06-20T19:30:15.733343",
     "status": "completed"
    },
    "tags": []
   },
   "outputs": [
    {
     "data": {
      "application/javascript": [
       "parent.postMessage({\"jupyterEvent\": \"custom.exercise_interaction\", \"data\": {\"outcomeType\": 1, \"valueTowardsCompletion\": 0.14285714285714285, \"interactionType\": 1, \"questionType\": 1, \"questionId\": \"4_CenteredPrice\", \"learnToolsVersion\": \"0.3.4\", \"failureMessage\": \"\", \"exceptionClass\": \"\", \"trace\": \"\"}}, \"*\")"
      ],
      "text/plain": [
       "<IPython.core.display.Javascript object>"
      ]
     },
     "metadata": {},
     "output_type": "display_data"
    },
    {
     "data": {
      "text/markdown": [
       "<span style=\"color:#33cc33\">Correct</span>"
      ],
      "text/plain": [
       "Correct"
      ]
     },
     "metadata": {},
     "output_type": "display_data"
    }
   ],
   "source": [
    "m = reviews.price.mean()\n",
    "centered_price = reviews.price.map(lambda p: p- m)\n",
    "\n",
    "# Check your answer\n",
    "q4.check()"
   ]
  },
  {
   "cell_type": "code",
   "execution_count": 9,
   "id": "cc4fd742",
   "metadata": {
    "execution": {
     "iopub.execute_input": "2022-06-20T19:30:15.812565Z",
     "iopub.status.busy": "2022-06-20T19:30:15.812113Z",
     "iopub.status.idle": "2022-06-20T19:30:15.816169Z",
     "shell.execute_reply": "2022-06-20T19:30:15.815232Z"
    },
    "papermill": {
     "duration": 0.013597,
     "end_time": "2022-06-20T19:30:15.818004",
     "exception": false,
     "start_time": "2022-06-20T19:30:15.804407",
     "status": "completed"
    },
    "tags": []
   },
   "outputs": [],
   "source": [
    "#q4.hint()\n",
    "#q4.solution()"
   ]
  },
  {
   "cell_type": "markdown",
   "id": "2befca15",
   "metadata": {
    "papermill": {
     "duration": 0.005827,
     "end_time": "2022-06-20T19:30:15.830164",
     "exception": false,
     "start_time": "2022-06-20T19:30:15.824337",
     "status": "completed"
    },
    "tags": []
   },
   "source": [
    "## 5.\n",
    "I'm an economical wine buyer. Which wine is the \"best bargain\"? Create a variable `bargain_wine` with the title of the wine with the highest points-to-price ratio in the dataset."
   ]
  },
  {
   "cell_type": "code",
   "execution_count": 10,
   "id": "0fdeb20d",
   "metadata": {
    "execution": {
     "iopub.execute_input": "2022-06-20T19:30:15.844443Z",
     "iopub.status.busy": "2022-06-20T19:30:15.844025Z",
     "iopub.status.idle": "2022-06-20T19:30:15.856805Z",
     "shell.execute_reply": "2022-06-20T19:30:15.855882Z"
    },
    "papermill": {
     "duration": 0.0221,
     "end_time": "2022-06-20T19:30:15.858668",
     "exception": false,
     "start_time": "2022-06-20T19:30:15.836568",
     "status": "completed"
    },
    "tags": []
   },
   "outputs": [
    {
     "data": {
      "application/javascript": [
       "parent.postMessage({\"jupyterEvent\": \"custom.exercise_interaction\", \"data\": {\"outcomeType\": 1, \"valueTowardsCompletion\": 0.14285714285714285, \"interactionType\": 1, \"questionType\": 2, \"questionId\": \"5_BargainWine\", \"learnToolsVersion\": \"0.3.4\", \"failureMessage\": \"\", \"exceptionClass\": \"\", \"trace\": \"\"}}, \"*\")"
      ],
      "text/plain": [
       "<IPython.core.display.Javascript object>"
      ]
     },
     "metadata": {},
     "output_type": "display_data"
    },
    {
     "data": {
      "text/markdown": [
       "<span style=\"color:#33cc33\">Correct</span>"
      ],
      "text/plain": [
       "Correct"
      ]
     },
     "metadata": {},
     "output_type": "display_data"
    }
   ],
   "source": [
    "bargain_idx = (reviews.points / reviews.price).idxmax()\n",
    "bargain_wine = reviews.loc[bargain_idx, 'title']\n",
    "# Check your answer\n",
    "q5.check()"
   ]
  },
  {
   "cell_type": "code",
   "execution_count": 11,
   "id": "14b95052",
   "metadata": {
    "execution": {
     "iopub.execute_input": "2022-06-20T19:30:15.872939Z",
     "iopub.status.busy": "2022-06-20T19:30:15.872391Z",
     "iopub.status.idle": "2022-06-20T19:30:15.875640Z",
     "shell.execute_reply": "2022-06-20T19:30:15.874934Z"
    },
    "papermill": {
     "duration": 0.012418,
     "end_time": "2022-06-20T19:30:15.877332",
     "exception": false,
     "start_time": "2022-06-20T19:30:15.864914",
     "status": "completed"
    },
    "tags": []
   },
   "outputs": [],
   "source": [
    "#q5.hint()\n",
    "#q5.solution()"
   ]
  },
  {
   "cell_type": "markdown",
   "id": "36aa7590",
   "metadata": {
    "papermill": {
     "duration": 0.005868,
     "end_time": "2022-06-20T19:30:15.889593",
     "exception": false,
     "start_time": "2022-06-20T19:30:15.883725",
     "status": "completed"
    },
    "tags": []
   },
   "source": [
    "## 6.\n",
    "There are only so many words you can use when describing a bottle of wine. Is a wine more likely to be \"tropical\" or \"fruity\"? Create a Series `descriptor_counts` counting how many times each of these two words appears in the `description` column in the dataset. (For simplicity, let's ignore the capitalized versions of these words.)"
   ]
  },
  {
   "cell_type": "code",
   "execution_count": 12,
   "id": "cedc825b",
   "metadata": {
    "execution": {
     "iopub.execute_input": "2022-06-20T19:30:15.904150Z",
     "iopub.status.busy": "2022-06-20T19:30:15.903482Z",
     "iopub.status.idle": "2022-06-20T19:30:16.030610Z",
     "shell.execute_reply": "2022-06-20T19:30:16.029736Z"
    },
    "papermill": {
     "duration": 0.136901,
     "end_time": "2022-06-20T19:30:16.032653",
     "exception": false,
     "start_time": "2022-06-20T19:30:15.895752",
     "status": "completed"
    },
    "tags": []
   },
   "outputs": [
    {
     "data": {
      "application/javascript": [
       "parent.postMessage({\"jupyterEvent\": \"custom.exercise_interaction\", \"data\": {\"outcomeType\": 1, \"valueTowardsCompletion\": 0.14285714285714285, \"interactionType\": 1, \"questionType\": 1, \"questionId\": \"6_DescriptorCounts\", \"learnToolsVersion\": \"0.3.4\", \"failureMessage\": \"\", \"exceptionClass\": \"\", \"trace\": \"\"}}, \"*\")"
      ],
      "text/plain": [
       "<IPython.core.display.Javascript object>"
      ]
     },
     "metadata": {},
     "output_type": "display_data"
    },
    {
     "data": {
      "text/markdown": [
       "<span style=\"color:#33cc33\">Correct</span>"
      ],
      "text/plain": [
       "Correct"
      ]
     },
     "metadata": {},
     "output_type": "display_data"
    }
   ],
   "source": [
    "n_trop = reviews.description.map(lambda desc: \"tropical\" in desc).sum()\n",
    "n_fruity = reviews.description.map(lambda desc: \"fruity\" in desc).sum()\n",
    "descriptor_counts = pd.Series([n_trop,n_fruity], index=['tropical','fruity'])\n",
    "\n",
    "# Check your answer\n",
    "q6.check()"
   ]
  },
  {
   "cell_type": "code",
   "execution_count": 13,
   "id": "9f80a1e6",
   "metadata": {
    "execution": {
     "iopub.execute_input": "2022-06-20T19:30:16.047403Z",
     "iopub.status.busy": "2022-06-20T19:30:16.047000Z",
     "iopub.status.idle": "2022-06-20T19:30:16.050959Z",
     "shell.execute_reply": "2022-06-20T19:30:16.049884Z"
    },
    "papermill": {
     "duration": 0.013722,
     "end_time": "2022-06-20T19:30:16.053045",
     "exception": false,
     "start_time": "2022-06-20T19:30:16.039323",
     "status": "completed"
    },
    "tags": []
   },
   "outputs": [],
   "source": [
    "#q6.hint()\n",
    "\n",
    "#q6.solution()"
   ]
  },
  {
   "cell_type": "markdown",
   "id": "df63c267",
   "metadata": {
    "papermill": {
     "duration": 0.006184,
     "end_time": "2022-06-20T19:30:16.065826",
     "exception": false,
     "start_time": "2022-06-20T19:30:16.059642",
     "status": "completed"
    },
    "tags": []
   },
   "source": [
    "## 7.\n",
    "We'd like to host these wine reviews on our website, but a rating system ranging from 80 to 100 points is too hard to understand - we'd like to translate them into simple star ratings. A score of 95 or higher counts as 3 stars, a score of at least 85 but less than 95 is 2 stars. Any other score is 1 star.\n",
    "\n",
    "Also, the Canadian Vintners Association bought a lot of ads on the site, so any wines from Canada should automatically get 3 stars, regardless of points.\n",
    "\n",
    "Create a series `star_ratings` with the number of stars corresponding to each review in the dataset."
   ]
  },
  {
   "cell_type": "code",
   "execution_count": 14,
   "id": "62d3ba1f",
   "metadata": {
    "execution": {
     "iopub.execute_input": "2022-06-20T19:30:16.080293Z",
     "iopub.status.busy": "2022-06-20T19:30:16.079721Z",
     "iopub.status.idle": "2022-06-20T19:30:19.398836Z",
     "shell.execute_reply": "2022-06-20T19:30:19.397969Z"
    },
    "papermill": {
     "duration": 3.328292,
     "end_time": "2022-06-20T19:30:19.400618",
     "exception": false,
     "start_time": "2022-06-20T19:30:16.072326",
     "status": "completed"
    },
    "tags": []
   },
   "outputs": [
    {
     "data": {
      "application/javascript": [
       "parent.postMessage({\"jupyterEvent\": \"custom.exercise_interaction\", \"data\": {\"outcomeType\": 1, \"valueTowardsCompletion\": 0.14285714285714285, \"interactionType\": 1, \"questionType\": 1, \"questionId\": \"7_StarRatings\", \"learnToolsVersion\": \"0.3.4\", \"failureMessage\": \"\", \"exceptionClass\": \"\", \"trace\": \"\"}}, \"*\")"
      ],
      "text/plain": [
       "<IPython.core.display.Javascript object>"
      ]
     },
     "metadata": {},
     "output_type": "display_data"
    },
    {
     "data": {
      "text/markdown": [
       "<span style=\"color:#33cc33\">Correct</span>"
      ],
      "text/plain": [
       "Correct"
      ]
     },
     "metadata": {},
     "output_type": "display_data"
    }
   ],
   "source": [
    "def star(row):\n",
    "    if row.country == 'Canada':\n",
    "        return 3\n",
    "    elif row.points >=95:\n",
    "        return 3\n",
    "    elif row.points >=85:\n",
    "        return 2\n",
    "    else:\n",
    "        return 1\n",
    "\n",
    "    \n",
    "\n",
    "\n",
    "star_ratings = reviews.apply(star, axis= 'columns')\n",
    "\n",
    "# Check your answer\n",
    "q7.check()"
   ]
  },
  {
   "cell_type": "code",
   "execution_count": 15,
   "id": "299d96c5",
   "metadata": {
    "execution": {
     "iopub.execute_input": "2022-06-20T19:30:19.415667Z",
     "iopub.status.busy": "2022-06-20T19:30:19.414891Z",
     "iopub.status.idle": "2022-06-20T19:30:19.422100Z",
     "shell.execute_reply": "2022-06-20T19:30:19.421346Z"
    },
    "papermill": {
     "duration": 0.016694,
     "end_time": "2022-06-20T19:30:19.423852",
     "exception": false,
     "start_time": "2022-06-20T19:30:19.407158",
     "status": "completed"
    },
    "tags": []
   },
   "outputs": [
    {
     "data": {
      "application/javascript": [
       "parent.postMessage({\"jupyterEvent\": \"custom.exercise_interaction\", \"data\": {\"interactionType\": 3, \"questionType\": 1, \"questionId\": \"7_StarRatings\", \"learnToolsVersion\": \"0.3.4\", \"valueTowardsCompletion\": 0.0, \"failureMessage\": \"\", \"exceptionClass\": \"\", \"trace\": \"\", \"outcomeType\": 4}}, \"*\")"
      ],
      "text/plain": [
       "<IPython.core.display.Javascript object>"
      ]
     },
     "metadata": {},
     "output_type": "display_data"
    },
    {
     "data": {
      "text/markdown": [
       "<span style=\"color:#33cc99\">Solution:</span> \n",
       "```python\n",
       "def stars(row):\n",
       "    if row.country == 'Canada':\n",
       "        return 3\n",
       "    elif row.points >= 95:\n",
       "        return 3\n",
       "    elif row.points >= 85:\n",
       "        return 2\n",
       "    else:\n",
       "        return 1\n",
       "    \n",
       "star_ratings = reviews.apply(stars, axis='columns')\n",
       "```"
      ],
      "text/plain": [
       "Solution: \n",
       "```python\n",
       "def stars(row):\n",
       "    if row.country == 'Canada':\n",
       "        return 3\n",
       "    elif row.points >= 95:\n",
       "        return 3\n",
       "    elif row.points >= 85:\n",
       "        return 2\n",
       "    else:\n",
       "        return 1\n",
       "    \n",
       "star_ratings = reviews.apply(stars, axis='columns')\n",
       "```"
      ]
     },
     "metadata": {},
     "output_type": "display_data"
    }
   ],
   "source": [
    "#q7.hint()\n",
    "q7.solution()"
   ]
  },
  {
   "cell_type": "markdown",
   "id": "93c9e6b1",
   "metadata": {
    "papermill": {
     "duration": 0.006509,
     "end_time": "2022-06-20T19:30:19.437363",
     "exception": false,
     "start_time": "2022-06-20T19:30:19.430854",
     "status": "completed"
    },
    "tags": []
   },
   "source": [
    "# Keep going\n",
    "Continue to **[grouping and sorting](https://www.kaggle.com/residentmario/grouping-and-sorting)**."
   ]
  },
  {
   "cell_type": "markdown",
   "id": "b8cbc9a8",
   "metadata": {
    "papermill": {
     "duration": 0.006427,
     "end_time": "2022-06-20T19:30:19.450493",
     "exception": false,
     "start_time": "2022-06-20T19:30:19.444066",
     "status": "completed"
    },
    "tags": []
   },
   "source": [
    "---\n",
    "\n",
    "\n",
    "\n",
    "\n",
    "*Have questions or comments? Visit the [course discussion forum](https://www.kaggle.com/learn/pandas/discussion) to chat with other learners.*"
   ]
  }
 ],
 "metadata": {
  "kernelspec": {
   "display_name": "Python 3",
   "language": "python",
   "name": "python3"
  },
  "language_info": {
   "codemirror_mode": {
    "name": "ipython",
    "version": 3
   },
   "file_extension": ".py",
   "mimetype": "text/x-python",
   "name": "python",
   "nbconvert_exporter": "python",
   "pygments_lexer": "ipython3",
   "version": "3.7.12"
  },
  "papermill": {
   "default_parameters": {},
   "duration": 19.415663,
   "end_time": "2022-06-20T19:30:20.077009",
   "environment_variables": {},
   "exception": null,
   "input_path": "__notebook__.ipynb",
   "output_path": "__notebook__.ipynb",
   "parameters": {},
   "start_time": "2022-06-20T19:30:00.661346",
   "version": "2.3.4"
  }
 },
 "nbformat": 4,
 "nbformat_minor": 5
}
